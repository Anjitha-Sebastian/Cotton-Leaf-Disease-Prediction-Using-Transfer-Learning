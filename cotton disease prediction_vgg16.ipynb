{
 "cells": [
  {
   "cell_type": "markdown",
   "metadata": {},
   "source": [
    "### Cotton Leaf Disease prediction Using Transfer Learning with VGG16 "
   ]
  },
  {
   "cell_type": "code",
   "execution_count": 1,
   "metadata": {},
   "outputs": [],
   "source": [
    "from tensorflow.keras.layers import Input, Lambda, Dense, Flatten\n",
    "from tensorflow.keras.models import Model\n",
    "from tensorflow.keras.applications.vgg16 import VGG16\n",
    "from tensorflow.keras.applications.vgg16 import preprocess_input\n",
    "from tensorflow.keras.preprocessing import image\n",
    "from tensorflow.keras.preprocessing.image import ImageDataGenerator,load_img\n",
    "from tensorflow.keras.models import Sequential\n",
    "import numpy as np\n",
    "from glob import glob"
   ]
  },
  {
   "cell_type": "markdown",
   "metadata": {},
   "source": [
    "### Re-size all the images"
   ]
  },
  {
   "cell_type": "code",
   "execution_count": 2,
   "metadata": {},
   "outputs": [],
   "source": [
    "# re-size all the images to this\n",
    "IMAGE_SIZE = [224, 224]\n",
    "\n",
    "train_path = 'train'\n",
    "valid_path = 'test'"
   ]
  },
  {
   "cell_type": "code",
   "execution_count": 3,
   "metadata": {},
   "outputs": [
    {
     "data": {
      "text/plain": [
       "'train'"
      ]
     },
     "execution_count": 3,
     "metadata": {},
     "output_type": "execute_result"
    }
   ],
   "source": [
    "train_path"
   ]
  },
  {
   "cell_type": "markdown",
   "metadata": {},
   "source": [
    "#### Removing the last layer of VGG16 "
   ]
  },
  {
   "cell_type": "code",
   "execution_count": 4,
   "metadata": {},
   "outputs": [],
   "source": [
    "#Add preprocessing layer to the front of VGG\n",
    "# Here we will be using imagenet weights\n",
    "\n",
    "\n",
    "vgg16 = VGG16(input_shape=IMAGE_SIZE + [3], weights='imagenet', include_top=False)"
   ]
  },
  {
   "cell_type": "code",
   "execution_count": 5,
   "metadata": {},
   "outputs": [],
   "source": [
    "# Avoiding existing VGG16 layers from training as they are pretrained\n",
    "for layer in vgg16.layers:\n",
    "    layer.trainable = False"
   ]
  },
  {
   "cell_type": "markdown",
   "metadata": {},
   "source": [
    "#### Getting number of categories "
   ]
  },
  {
   "cell_type": "code",
   "execution_count": 6,
   "metadata": {},
   "outputs": [],
   "source": [
    "\n",
    "# useful for getting number of output classes\n",
    "folders = glob('train/*')"
   ]
  },
  {
   "cell_type": "code",
   "execution_count": 7,
   "metadata": {},
   "outputs": [
    {
     "data": {
      "text/plain": [
       "['train\\\\diseased cotton leaf',\n",
       " 'train\\\\diseased cotton plant',\n",
       " 'train\\\\fresh cotton leaf',\n",
       " 'train\\\\fresh cotton plant']"
      ]
     },
     "execution_count": 7,
     "metadata": {},
     "output_type": "execute_result"
    }
   ],
   "source": [
    "folders"
   ]
  },
  {
   "cell_type": "markdown",
   "metadata": {},
   "source": [
    "#### Flattening the last layers"
   ]
  },
  {
   "cell_type": "code",
   "execution_count": 8,
   "metadata": {},
   "outputs": [],
   "source": [
    "x = Flatten()(vgg16.output)"
   ]
  },
  {
   "cell_type": "markdown",
   "metadata": {},
   "source": [
    "### Creating a model object\n",
    " "
   ]
  },
  {
   "cell_type": "code",
   "execution_count": 9,
   "metadata": {},
   "outputs": [],
   "source": [
    "prediction = Dense(len(folders), activation='softmax')(x)#Appending output layer \n",
    "\n",
    "# create a model object\n",
    "model = Model(inputs=vgg16.input, outputs=prediction)"
   ]
  },
  {
   "cell_type": "code",
   "execution_count": 10,
   "metadata": {},
   "outputs": [
    {
     "name": "stdout",
     "output_type": "stream",
     "text": [
      "Model: \"model\"\n",
      "_________________________________________________________________\n",
      "Layer (type)                 Output Shape              Param #   \n",
      "=================================================================\n",
      "input_1 (InputLayer)         [(None, 224, 224, 3)]     0         \n",
      "_________________________________________________________________\n",
      "block1_conv1 (Conv2D)        (None, 224, 224, 64)      1792      \n",
      "_________________________________________________________________\n",
      "block1_conv2 (Conv2D)        (None, 224, 224, 64)      36928     \n",
      "_________________________________________________________________\n",
      "block1_pool (MaxPooling2D)   (None, 112, 112, 64)      0         \n",
      "_________________________________________________________________\n",
      "block2_conv1 (Conv2D)        (None, 112, 112, 128)     73856     \n",
      "_________________________________________________________________\n",
      "block2_conv2 (Conv2D)        (None, 112, 112, 128)     147584    \n",
      "_________________________________________________________________\n",
      "block2_pool (MaxPooling2D)   (None, 56, 56, 128)       0         \n",
      "_________________________________________________________________\n",
      "block3_conv1 (Conv2D)        (None, 56, 56, 256)       295168    \n",
      "_________________________________________________________________\n",
      "block3_conv2 (Conv2D)        (None, 56, 56, 256)       590080    \n",
      "_________________________________________________________________\n",
      "block3_conv3 (Conv2D)        (None, 56, 56, 256)       590080    \n",
      "_________________________________________________________________\n",
      "block3_pool (MaxPooling2D)   (None, 28, 28, 256)       0         \n",
      "_________________________________________________________________\n",
      "block4_conv1 (Conv2D)        (None, 28, 28, 512)       1180160   \n",
      "_________________________________________________________________\n",
      "block4_conv2 (Conv2D)        (None, 28, 28, 512)       2359808   \n",
      "_________________________________________________________________\n",
      "block4_conv3 (Conv2D)        (None, 28, 28, 512)       2359808   \n",
      "_________________________________________________________________\n",
      "block4_pool (MaxPooling2D)   (None, 14, 14, 512)       0         \n",
      "_________________________________________________________________\n",
      "block5_conv1 (Conv2D)        (None, 14, 14, 512)       2359808   \n",
      "_________________________________________________________________\n",
      "block5_conv2 (Conv2D)        (None, 14, 14, 512)       2359808   \n",
      "_________________________________________________________________\n",
      "block5_conv3 (Conv2D)        (None, 14, 14, 512)       2359808   \n",
      "_________________________________________________________________\n",
      "block5_pool (MaxPooling2D)   (None, 7, 7, 512)         0         \n",
      "_________________________________________________________________\n",
      "flatten (Flatten)            (None, 25088)             0         \n",
      "_________________________________________________________________\n",
      "dense (Dense)                (None, 4)                 100356    \n",
      "=================================================================\n",
      "Total params: 14,815,044\n",
      "Trainable params: 100,356\n",
      "Non-trainable params: 14,714,688\n",
      "_________________________________________________________________\n"
     ]
    }
   ],
   "source": [
    "# view the structure of the model\n",
    "model.summary()"
   ]
  },
  {
   "cell_type": "markdown",
   "metadata": {},
   "source": [
    "### Model Compilation"
   ]
  },
  {
   "cell_type": "code",
   "execution_count": 11,
   "metadata": {},
   "outputs": [],
   "source": [
    "#Defining cost and optimization method to use\n",
    "model.compile(\n",
    "  loss='categorical_crossentropy',\n",
    "  optimizer='adam',\n",
    "  metrics=['accuracy']\n",
    ")"
   ]
  },
  {
   "cell_type": "markdown",
   "metadata": {},
   "source": [
    "#### Data Augmentation "
   ]
  },
  {
   "cell_type": "code",
   "execution_count": 12,
   "metadata": {},
   "outputs": [],
   "source": [
    "\n",
    "# Use the Image Data Generator to import the images from the dataset\n",
    "from tensorflow.keras.preprocessing.image import ImageDataGenerator\n",
    "\n",
    "train_datagen = ImageDataGenerator(rescale = 1./255,\n",
    "                                   shear_range = 0.2,\n",
    "                                   zoom_range = 0.2,\n",
    "                                   horizontal_flip = True)\n",
    "\n",
    "test_datagen = ImageDataGenerator(rescale = 1./255)"
   ]
  },
  {
   "cell_type": "code",
   "execution_count": 13,
   "metadata": {},
   "outputs": [
    {
     "name": "stdout",
     "output_type": "stream",
     "text": [
      "Found 1951 images belonging to 4 classes.\n"
     ]
    }
   ],
   "source": [
    "# Make sure you provide the same target size as initialied for the image size\n",
    "training_set = train_datagen.flow_from_directory('train',\n",
    "                                                 target_size = (224, 224),\n",
    "                                                 batch_size = 32,\n",
    "                                                 class_mode = 'categorical')"
   ]
  },
  {
   "cell_type": "code",
   "execution_count": 14,
   "metadata": {},
   "outputs": [
    {
     "data": {
      "text/plain": [
       "61"
      ]
     },
     "execution_count": 14,
     "metadata": {},
     "output_type": "execute_result"
    }
   ],
   "source": [
    "len(training_set)"
   ]
  },
  {
   "cell_type": "code",
   "execution_count": 15,
   "metadata": {},
   "outputs": [
    {
     "name": "stdout",
     "output_type": "stream",
     "text": [
      "Found 106 images belonging to 4 classes.\n"
     ]
    }
   ],
   "source": [
    "test_set = test_datagen.flow_from_directory('test',\n",
    "                                            target_size = (224, 224),\n",
    "                                            batch_size = 32,\n",
    "                                            class_mode = 'categorical')"
   ]
  },
  {
   "cell_type": "code",
   "execution_count": 16,
   "metadata": {},
   "outputs": [
    {
     "name": "stdout",
     "output_type": "stream",
     "text": [
      "WARNING:tensorflow:From <ipython-input-16-6ec5a35725ca>:8: Model.fit_generator (from tensorflow.python.keras.engine.training) is deprecated and will be removed in a future version.\n",
      "Instructions for updating:\n",
      "Please use Model.fit, which supports generators.\n",
      "WARNING:tensorflow:sample_weight modes were coerced from\n",
      "  ...\n",
      "    to  \n",
      "  ['...']\n",
      "WARNING:tensorflow:sample_weight modes were coerced from\n",
      "  ...\n",
      "    to  \n",
      "  ['...']\n",
      "Train for 61 steps, validate for 4 steps\n",
      "Epoch 1/5\n",
      "61/61 [==============================] - 404s 7s/step - loss: 0.7283 - accuracy: 0.7294 - val_loss: 0.2957 - val_accuracy: 0.8774\n",
      "Epoch 2/5\n",
      "61/61 [==============================] - 396s 6s/step - loss: 0.2605 - accuracy: 0.9001 - val_loss: 0.1942 - val_accuracy: 0.9340\n",
      "Epoch 3/5\n",
      "61/61 [==============================] - 394s 6s/step - loss: 0.1868 - accuracy: 0.9339 - val_loss: 0.1792 - val_accuracy: 0.9151\n",
      "Epoch 4/5\n",
      "61/61 [==============================] - 398s 7s/step - loss: 0.1291 - accuracy: 0.9605 - val_loss: 0.1298 - val_accuracy: 0.9528\n",
      "Epoch 5/5\n",
      "61/61 [==============================] - 410s 7s/step - loss: 0.1127 - accuracy: 0.9657 - val_loss: 0.1120 - val_accuracy: 0.9434\n"
     ]
    }
   ],
   "source": [
    "# fit the model\n",
    "# Run the cell. It will take some time to execute\n",
    "r = model.fit_generator(\n",
    "  training_set,\n",
    "  validation_data=test_set,\n",
    "  epochs=5,\n",
    "  steps_per_epoch=len(training_set),\n",
    "  validation_steps=len(test_set)\n",
    ")"
   ]
  },
  {
   "cell_type": "markdown",
   "metadata": {},
   "source": [
    "### Plotting Accuracies and Loss for all epochs "
   ]
  },
  {
   "cell_type": "code",
   "execution_count": 17,
   "metadata": {},
   "outputs": [],
   "source": [
    "import matplotlib.pyplot as plt\n"
   ]
  },
  {
   "cell_type": "code",
   "execution_count": 18,
   "metadata": {},
   "outputs": [
    {
     "data": {
      "image/png": "[encoded data removed]",
      "text/plain": [
       "<Figure size 432x288 with 1 Axes>"
      ]
     },
     "metadata": {
      "needs_background": "light"
     },
     "output_type": "display_data"
    },
    {
     "data": {
      "image/png": "[encoded data removed]",
      "text/plain": [
       "<Figure size 432x288 with 1 Axes>"
      ]
     },
     "metadata": {
      "needs_background": "light"
     },
     "output_type": "display_data"
    },
    {
     "data": {
      "text/plain": [
       "<Figure size 432x288 with 0 Axes>"
      ]
     },
     "metadata": {},
     "output_type": "display_data"
    }
   ],
   "source": [
    "plt.plot(r.history['loss'], label='train loss')\n",
    "plt.plot(r.history['val_loss'], label='val loss')\n",
    "plt.legend()\n",
    "plt.show()\n",
    "plt.savefig('LossVal_loss')\n",
    "\n",
    "# plot the accuracy\n",
    "plt.plot(r.history['accuracy'], label='train acc')\n",
    "plt.plot(r.history['val_accuracy'], label='val acc')\n",
    "plt.legend()\n",
    "plt.show()\n",
    "plt.savefig('AccVal_acc')"
   ]
  },
  {
   "cell_type": "code",
   "execution_count": 41,
   "metadata": {},
   "outputs": [
    {
     "data": {
      "text/plain": [
       "[0.23584905,\n",
       " 0.2264151,\n",
       " 0.28301886,\n",
       " 0.254717,\n",
       " 0.3018868,\n",
       " 0.254717,\n",
       " 0.23584905,\n",
       " 0.23584905,\n",
       " 0.2264151,\n",
       " 0.23584905]"
      ]
     },
     "execution_count": 41,
     "metadata": {},
     "output_type": "execute_result"
    }
   ],
   "source": [
    "r.history['val_accuracy']"
   ]
  },
  {
   "cell_type": "markdown",
   "metadata": {},
   "source": [
    "#### Model saving "
   ]
  },
  {
   "cell_type": "code",
   "execution_count": 19,
   "metadata": {},
   "outputs": [],
   "source": [
    "# save it as a h5 file\n",
    "\n",
    "\n",
    "from tensorflow.keras.models import load_model\n",
    "\n",
    "model.save('vgg16.h5')"
   ]
  },
  {
   "cell_type": "markdown",
   "metadata": {},
   "source": [
    "### Prediction"
   ]
  },
  {
   "cell_type": "code",
   "execution_count": 20,
   "metadata": {},
   "outputs": [],
   "source": [
    "y_pred = model.predict(test_set)\n"
   ]
  },
  {
   "cell_type": "code",
   "execution_count": 21,
   "metadata": {},
   "outputs": [
    {
     "data": {
      "text/plain": [
       "array([[9.99935508e-01, 5.37242777e-05, 8.30307545e-06, 2.40491158e-06],\n",
       "       [2.52311770e-03, 5.33357252e-07, 9.97476280e-01, 8.48791473e-08],\n",
       "       [9.66869593e-01, 3.65608721e-03, 3.42799886e-03, 2.60464363e-02],\n",
       "       [1.08790868e-04, 5.85322753e-02, 2.64336104e-05, 9.41332459e-01],\n",
       "       [6.99686871e-06, 2.05225851e-02, 2.32101434e-06, 9.79468167e-01],\n",
       "       [9.97486830e-01, 1.35508570e-04, 2.37453310e-03, 3.14293493e-06],\n",
       "       [8.66846263e-01, 2.15498381e-04, 1.32909507e-01, 2.88036244e-05],\n",
       "       [1.02668237e-04, 9.74367440e-01, 3.76418221e-08, 2.55298801e-02],\n",
       "       [7.99159466e-07, 2.13392491e-06, 3.72336717e-06, 9.99993324e-01],\n",
       "       [5.32163598e-04, 1.54973129e-02, 2.82171182e-03, 9.81148779e-01],\n",
       "       [2.40550525e-02, 4.21109706e-01, 5.47977686e-01, 6.85764570e-03],\n",
       "       [1.77342590e-04, 7.95002095e-03, 7.36466172e-05, 9.91798997e-01],\n",
       "       [2.50184108e-02, 4.91741639e-06, 9.74969447e-01, 7.15091028e-06],\n",
       "       [9.98258173e-01, 1.24841894e-03, 5.77954634e-05, 4.35518741e-04],\n",
       "       [7.19167019e-06, 1.26823643e-03, 9.85554834e-06, 9.98714685e-01],\n",
       "       [2.58257706e-03, 6.08395494e-05, 9.97239232e-01, 1.17380951e-04],\n",
       "       [1.26479741e-03, 6.16488338e-04, 9.95652795e-01, 2.46590283e-03],\n",
       "       [4.00896934e-05, 1.51892775e-03, 2.58773980e-06, 9.98438418e-01],\n",
       "       [7.71017003e-05, 1.48053681e-02, 3.32600175e-04, 9.84784961e-01],\n",
       "       [2.58107530e-03, 7.34770358e-01, 5.67860669e-04, 2.62080729e-01],\n",
       "       [1.63536206e-05, 2.51696748e-03, 4.38138358e-07, 9.97466207e-01],\n",
       "       [9.98391926e-01, 1.57328218e-03, 1.50245360e-05, 1.96981982e-05],\n",
       "       [1.23667927e-03, 7.10469321e-05, 9.98676121e-01, 1.60452255e-05],\n",
       "       [3.77167489e-05, 1.60523271e-03, 1.68028913e-04, 9.98189032e-01],\n",
       "       [2.88937561e-04, 9.82779503e-01, 2.93532321e-05, 1.69021431e-02],\n",
       "       [3.69187037e-05, 9.86744463e-01, 1.93147898e-05, 1.31992837e-02],\n",
       "       [1.66447440e-04, 9.96461928e-01, 4.37520112e-06, 3.36729991e-03],\n",
       "       [5.27270779e-04, 9.71899331e-02, 3.86428001e-05, 9.02244151e-01],\n",
       "       [7.82661606e-04, 2.20345077e-03, 2.06012970e-07, 9.97013688e-01],\n",
       "       [1.18556927e-05, 1.47491263e-03, 1.25324470e-06, 9.98511970e-01],\n",
       "       [1.75138016e-03, 8.95328760e-01, 1.20715471e-03, 1.01712771e-01],\n",
       "       [6.68769404e-02, 2.24139821e-03, 9.25741971e-01, 5.13962749e-03],\n",
       "       [5.06285466e-02, 3.62727046e-01, 7.12042325e-04, 5.85932434e-01],\n",
       "       [9.19708237e-03, 2.95972888e-04, 9.90404248e-01, 1.02696999e-04],\n",
       "       [3.95488198e-04, 6.79803565e-02, 1.32319611e-03, 9.30301011e-01],\n",
       "       [6.86475278e-06, 2.40443274e-03, 5.36503758e-05, 9.97534990e-01],\n",
       "       [6.28640950e-01, 3.65427583e-01, 2.08090234e-04, 5.72339259e-03],\n",
       "       [2.74213817e-05, 9.96307611e-01, 6.48586081e-07, 3.66438576e-03],\n",
       "       [6.80821599e-04, 9.05699015e-01, 1.96009132e-04, 9.34241340e-02],\n",
       "       [8.33979924e-04, 3.09155546e-02, 5.26598888e-03, 9.62984502e-01],\n",
       "       [6.38806727e-04, 8.53823960e-01, 1.36844174e-03, 1.44168705e-01],\n",
       "       [1.85343069e-05, 9.94793475e-01, 1.03343391e-05, 5.17771579e-03],\n",
       "       [1.29808934e-04, 3.79641987e-02, 6.60425794e-05, 9.61839914e-01],\n",
       "       [2.08921356e-05, 4.67460975e-03, 3.62724531e-04, 9.94941771e-01],\n",
       "       [1.22492725e-04, 3.43124611e-07, 9.99876738e-01, 3.79141682e-07],\n",
       "       [7.69110583e-03, 2.74161866e-04, 9.74435270e-01, 1.75995529e-02],\n",
       "       [9.99189794e-01, 2.66386807e-04, 4.95578861e-04, 4.82537398e-05],\n",
       "       [1.54042011e-03, 9.35848176e-01, 9.33674673e-05, 6.25180006e-02],\n",
       "       [2.36383756e-03, 1.46846252e-03, 9.77964044e-01, 1.82036292e-02],\n",
       "       [9.31491494e-01, 2.10514248e-04, 6.82889894e-02, 8.99353290e-06],\n",
       "       [9.54944827e-03, 1.31571269e-07, 9.90450442e-01, 1.33476803e-08],\n",
       "       [1.30113131e-06, 1.88092279e-04, 9.73977876e-06, 9.99800861e-01],\n",
       "       [2.29921716e-04, 9.84818280e-01, 3.30334442e-04, 1.46215530e-02],\n",
       "       [6.16600085e-03, 2.46199034e-03, 9.89974320e-01, 1.39759073e-03],\n",
       "       [2.67311534e-05, 1.48799233e-02, 3.90894362e-04, 9.84702408e-01],\n",
       "       [1.48476276e-04, 9.80169237e-01, 2.57787779e-05, 1.96564700e-02],\n",
       "       [9.89529788e-01, 1.60855663e-04, 1.02996575e-02, 9.69826488e-06],\n",
       "       [1.01277290e-03, 9.29238439e-01, 4.90933890e-05, 6.96997270e-02],\n",
       "       [4.77936032e-04, 1.41898397e-07, 9.99521971e-01, 3.41204531e-09],\n",
       "       [4.55715694e-04, 7.45385215e-02, 4.25355029e-05, 9.24963236e-01],\n",
       "       [4.18426931e-01, 2.01468803e-02, 5.31385660e-01, 3.00404821e-02],\n",
       "       [3.62863694e-03, 1.33980734e-06, 9.96369004e-01, 1.02462320e-06],\n",
       "       [1.19353528e-04, 8.98098648e-01, 3.60906051e-05, 1.01745829e-01],\n",
       "       [9.90993798e-01, 2.16216198e-03, 6.14923367e-04, 6.22922648e-03],\n",
       "       [1.17453921e-04, 4.43088055e-08, 9.99882460e-01, 2.04789536e-08],\n",
       "       [1.72997257e-04, 9.93655801e-01, 2.02231706e-04, 5.96911972e-03],\n",
       "       [7.76083529e-01, 2.99883867e-03, 8.83923173e-02, 1.32525221e-01],\n",
       "       [5.03363879e-03, 1.10903345e-02, 1.20785029e-03, 9.82668221e-01],\n",
       "       [8.97511281e-03, 1.44829359e-02, 6.43710257e-04, 9.75898266e-01],\n",
       "       [1.66170994e-05, 1.62898941e-04, 3.02790922e-05, 9.99790251e-01],\n",
       "       [9.35837105e-02, 2.30116807e-02, 4.52327400e-01, 4.31077212e-01],\n",
       "       [6.35772431e-03, 2.38901732e-04, 9.90684509e-01, 2.71889661e-03],\n",
       "       [2.11250596e-03, 1.70052442e-06, 9.97885764e-01, 1.65516543e-08],\n",
       "       [2.36383756e-03, 1.46846252e-03, 9.77964044e-01, 1.82036292e-02],\n",
       "       [4.42015968e-04, 2.75567004e-06, 9.99555171e-01, 4.81787765e-08],\n",
       "       [9.99892473e-01, 8.76620252e-05, 1.69499217e-05, 2.96357189e-06],\n",
       "       [9.98770177e-01, 1.93240863e-04, 1.03259296e-03, 3.98458224e-06],\n",
       "       [1.19864017e-05, 2.91615212e-03, 1.27093074e-06, 9.97070551e-01],\n",
       "       [7.37640803e-05, 1.04646824e-01, 2.43311797e-06, 8.95276964e-01],\n",
       "       [5.35130857e-05, 9.89679813e-01, 3.80716432e-04, 9.88590252e-03],\n",
       "       [2.46202748e-04, 1.27101056e-02, 3.91600741e-04, 9.86652136e-01],\n",
       "       [9.99818265e-01, 5.02757866e-05, 1.31367604e-04, 6.29981329e-08],\n",
       "       [9.95945394e-01, 1.96575002e-05, 3.93176451e-03, 1.03123057e-04],\n",
       "       [2.98029718e-05, 2.17037286e-08, 9.99970198e-01, 1.39887861e-08],\n",
       "       [8.33254680e-03, 3.93118802e-03, 8.96152377e-01, 9.15839449e-02],\n",
       "       [4.04164806e-04, 5.92644274e-01, 1.73887398e-04, 4.06777710e-01],\n",
       "       [6.93937618e-05, 9.90285337e-01, 1.93720880e-05, 9.62584373e-03],\n",
       "       [9.97407138e-01, 2.54682818e-05, 2.12566787e-03, 4.41726559e-04],\n",
       "       [9.99355376e-01, 3.12526754e-05, 5.18750225e-04, 9.46810469e-05],\n",
       "       [5.46371739e-04, 6.33180737e-01, 1.47594968e-04, 3.66125315e-01],\n",
       "       [1.03281200e-04, 5.76954017e-06, 9.99776423e-01, 1.14585790e-04],\n",
       "       [1.23518348e-05, 9.99746740e-01, 3.84372697e-06, 2.36996741e-04],\n",
       "       [9.94650185e-01, 5.34425536e-03, 1.58038779e-06, 4.06090294e-06],\n",
       "       [9.99766171e-01, 1.86341073e-04, 4.16564617e-05, 5.72350700e-06],\n",
       "       [4.59835418e-02, 1.52071507e-03, 9.03792977e-01, 4.87027057e-02],\n",
       "       [9.36563373e-01, 1.16779476e-04, 6.05587997e-02, 2.76098237e-03],\n",
       "       [1.51972705e-03, 1.27624134e-02, 8.82611334e-01, 1.03106514e-01],\n",
       "       [5.20974245e-05, 6.23309938e-03, 2.83776957e-04, 9.93431032e-01],\n",
       "       [9.79827762e-01, 1.74626854e-04, 1.98571421e-02, 1.40571632e-04],\n",
       "       [9.88764763e-01, 5.75356651e-04, 1.05753010e-02, 8.46256444e-05],\n",
       "       [1.68088256e-04, 9.95504558e-01, 1.11917747e-04, 4.21545841e-03],\n",
       "       [9.96240258e-01, 2.44319555e-04, 6.27223693e-04, 2.88821314e-03],\n",
       "       [5.26036660e-04, 9.52560723e-01, 1.38032192e-04, 4.67751808e-02],\n",
       "       [6.11508556e-04, 9.86795008e-01, 1.17612362e-04, 1.24758864e-02],\n",
       "       [5.50813191e-02, 2.67807045e-05, 9.44520295e-01, 3.71518370e-04],\n",
       "       [1.63321165e-04, 9.41999912e-01, 3.49963171e-04, 5.74869029e-02]],\n",
       "      dtype=float32)"
      ]
     },
     "execution_count": 21,
     "metadata": {},
     "output_type": "execute_result"
    }
   ],
   "source": [
    "y_pred"
   ]
  },
  {
   "cell_type": "code",
   "execution_count": 22,
   "metadata": {},
   "outputs": [],
   "source": [
    "import numpy as np\n",
    "y_pred1 = np.argmax(y_pred, axis=1)"
   ]
  },
  {
   "cell_type": "code",
   "execution_count": 23,
   "metadata": {},
   "outputs": [
    {
     "data": {
      "text/plain": [
       "array([0, 2, 0, 3, 3, 0, 0, 1, 3, 3, 2, 3, 2, 0, 3, 2, 2, 3, 3, 1, 3, 0,\n",
       "       2, 3, 1, 1, 1, 3, 3, 3, 1, 2, 3, 2, 3, 3, 0, 1, 1, 3, 1, 1, 3, 3,\n",
       "       2, 2, 0, 1, 2, 0, 2, 3, 1, 2, 3, 1, 0, 1, 2, 3, 2, 2, 1, 0, 2, 1,\n",
       "       0, 3, 3, 3, 2, 2, 2, 2, 2, 0, 0, 3, 3, 1, 3, 0, 0, 2, 2, 1, 1, 0,\n",
       "       0, 1, 2, 1, 0, 0, 2, 0, 2, 3, 0, 0, 1, 0, 1, 1, 2, 1], dtype=int64)"
      ]
     },
     "execution_count": 23,
     "metadata": {},
     "output_type": "execute_result"
    }
   ],
   "source": [
    "y_pred1"
   ]
  },
  {
   "cell_type": "code",
   "execution_count": 24,
   "metadata": {},
   "outputs": [
    {
     "data": {
      "text/plain": [
       "array([0, 0, 0, 0, 0, 0, 0, 0, 0, 0, 0, 0, 0, 0, 0, 0, 0, 0, 0, 0, 0, 0,\n",
       "       0, 0, 0, 1, 1, 1, 1, 1, 1, 1, 1, 1, 1, 1, 1, 1, 1, 1, 1, 1, 1, 1,\n",
       "       1, 1, 1, 1, 1, 1, 1, 1, 1, 2, 2, 2, 2, 2, 2, 2, 2, 2, 2, 2, 2, 2,\n",
       "       2, 2, 2, 2, 2, 2, 2, 2, 2, 2, 2, 2, 2, 3, 3, 3, 3, 3, 3, 3, 3, 3,\n",
       "       3, 3, 3, 3, 3, 3, 3, 3, 3, 3, 3, 3, 3, 3, 3, 3, 3, 3])"
      ]
     },
     "execution_count": 24,
     "metadata": {},
     "output_type": "execute_result"
    }
   ],
   "source": [
    "test_set.classes\n"
   ]
  },
  {
   "cell_type": "code",
   "execution_count": 53,
   "metadata": {},
   "outputs": [],
   "source": [
    "import numpy as np\n",
    "from tensorflow.keras.preprocessing import image\n",
    "test_image = image.load_img('C:/Users/anjit/Machine Learning/deep learning/Cotton Disease/test/fresh cotton plant/dsd (140)_iaip.jpg', target_size = (224,224))\n",
    "test_image = image.img_to_array(test_image)\n",
    "test_image=test_image/255\n",
    "test_image = np.expand_dims(test_image, axis = 0)\n",
    "result = model.predict(test_image)"
   ]
  },
  {
   "cell_type": "code",
   "execution_count": 54,
   "metadata": {},
   "outputs": [
    {
     "data": {
      "text/plain": [
       "array([[2.6731404e-05, 1.4880022e-02, 3.9089654e-04, 9.8470229e-01]],\n",
       "      dtype=float32)"
      ]
     },
     "execution_count": 54,
     "metadata": {},
     "output_type": "execute_result"
    }
   ],
   "source": [
    "result"
   ]
  },
  {
   "cell_type": "code",
   "execution_count": 55,
   "metadata": {},
   "outputs": [],
   "source": [
    "a= np.argmax(model.predict(test_image),axis=1)\n"
   ]
  },
  {
   "cell_type": "code",
   "execution_count": 56,
   "metadata": {},
   "outputs": [
    {
     "data": {
      "text/plain": [
       "array([3], dtype=int64)"
      ]
     },
     "execution_count": 56,
     "metadata": {},
     "output_type": "execute_result"
    }
   ],
   "source": [
    "a"
   ]
  },
  {
   "cell_type": "code",
   "execution_count": 57,
   "metadata": {},
   "outputs": [
    {
     "name": "stdout",
     "output_type": "stream",
     "text": [
      "fresh cotton plant\n"
     ]
    }
   ],
   "source": [
    "if a==0:\n",
    "    print(\"diseased cotton leaf\")\n",
    "if a==1:\n",
    "    print(\"diseased cotton plant\")\n",
    "if a==2:\n",
    "    print(\"fresh cotton leaf\")\n",
    "if a==3:\n",
    "    print(\"fresh cotton plant\")"
   ]
  },
  {
   "cell_type": "code",
   "execution_count": null,
   "metadata": {},
   "outputs": [],
   "source": []
  }
 ],
 "metadata": {
  "kernelspec": {
   "display_name": "Python 3",
   "language": "python",
   "name": "python3"
  },
  "language_info": {
   "codemirror_mode": {
    "name": "ipython",
    "version": 3
   },
   "file_extension": ".py",
   "mimetype": "text/x-python",
   "name": "python",
   "nbconvert_exporter": "python",
   "pygments_lexer": "ipython3",
   "version": "3.7.4"
  }
 },
 "nbformat": 4,
 "nbformat_minor": 2
}
